{
 "cells": [
  {
   "cell_type": "code",
   "execution_count": 1,
   "id": "1ed812f2",
   "metadata": {},
   "outputs": [
    {
     "name": "stdout",
     "output_type": "stream",
     "text": [
      "[[0 1 1 1 0 0 1 0 1]\n",
      " [0 2 0 1 0 1 1 0 1]\n",
      " [1 0 0 1 1 0 1 1 1]\n",
      " [0 1 1 1 0 0 1 0 1]]\n"
     ]
    },
    {
     "data": {
      "text/plain": [
       "array(['and this', 'document is', 'first document', 'is the', 'is this',\n",
       "       'second document', 'the first', 'the second', 'the third',\n",
       "       'third one', 'this document', 'this is', 'this the'], dtype=object)"
      ]
     },
     "execution_count": 1,
     "metadata": {},
     "output_type": "execute_result"
    }
   ],
   "source": [
    "from sklearn.feature_extraction.text import CountVectorizer\n",
    "corpus = [\n",
    "    'This is the first document.',\n",
    "    'This document is the second document.',\n",
    "    'And this is the third one.',\n",
    "    'Is this the first document?',\n",
    "]\n",
    "vectorizer = CountVectorizer()\n",
    "X = vectorizer.fit_transform(corpus)\n",
    "vectorizer.get_feature_names_out()\n",
    "print(X.toarray())\n",
    "vectorizer2 = CountVectorizer(analyzer='word', ngram_range=(2, 2))\n",
    "X2 = vectorizer2.fit_transform(corpus)\n",
    "vectorizer2.get_feature_names_out()\n",
    "\n"
   ]
  },
  {
   "cell_type": "code",
   "execution_count": 2,
   "id": "6229f2cb",
   "metadata": {},
   "outputs": [
    {
     "name": "stdout",
     "output_type": "stream",
     "text": [
      "[[0 1 1 1 0 0 1 0 1]\n",
      " [0 2 0 1 0 1 1 0 1]\n",
      " [1 0 0 1 1 0 1 1 1]\n",
      " [0 1 1 1 0 0 1 0 1]]\n"
     ]
    },
    {
     "data": {
      "text/plain": [
       "array([' a', ' d', ' f', ' i', ' o', ' s', ' t', '. ', '? ', 'an', 'co',\n",
       "       'cu', 'd ', 'do', 'e ', 'e.', 'ec', 'en', 'fi', 'he', 'hi', 'ir',\n",
       "       'is', 'me', 'nd', 'ne', 'nt', 'oc', 'on', 'rd', 'rs', 's ', 'se',\n",
       "       'st', 't ', 't.', 't?', 'th', 'um'], dtype=object)"
      ]
     },
     "execution_count": 2,
     "metadata": {},
     "output_type": "execute_result"
    }
   ],
   "source": [
    "from sklearn.feature_extraction.text import CountVectorizer\n",
    "corpus = [\n",
    "    'This is the first document.',\n",
    "    'This document is the second document.',\n",
    "    'And this is the third one.',\n",
    "    'Is this the first document?',\n",
    "]\n",
    "vectorizer = CountVectorizer()\n",
    "X = vectorizer.fit_transform(corpus)\n",
    "vectorizer.get_feature_names_out()\n",
    "print(X.toarray())\n",
    "vectorizer2 = CountVectorizer(analyzer='char_wb', ngram_range=(2, 2))\n",
    "X2 = vectorizer2.fit_transform(corpus)\n",
    "vectorizer2.get_feature_names_out()\n",
    "\n"
   ]
  },
  {
   "cell_type": "code",
   "execution_count": 3,
   "id": "121daae8",
   "metadata": {},
   "outputs": [
    {
     "name": "stdout",
     "output_type": "stream",
     "text": [
      "[[0 1 1 1 0 0 1 0 1]\n",
      " [0 2 0 1 0 1 1 0 1]\n",
      " [1 0 0 1 1 0 1 1 1]\n",
      " [0 1 1 1 0 0 1 0 1]]\n"
     ]
    },
    {
     "data": {
      "text/plain": [
       "array([' d', ' f', ' i', ' o', ' s', ' t', 'an', 'co', 'cu', 'd ', 'do',\n",
       "       'e ', 'e.', 'ec', 'en', 'fi', 'he', 'hi', 'ir', 'is', 'me', 'nd',\n",
       "       'ne', 'nt', 'oc', 'on', 'rd', 'rs', 's ', 'se', 'st', 't ', 't.',\n",
       "       't?', 'th', 'um'], dtype=object)"
      ]
     },
     "execution_count": 3,
     "metadata": {},
     "output_type": "execute_result"
    }
   ],
   "source": [
    "from sklearn.feature_extraction.text import CountVectorizer\n",
    "corpus = [\n",
    "    'This is the first document.',\n",
    "    'This document is the second document.',\n",
    "    'And this is the third one.',\n",
    "    'Is this the first document?',\n",
    "]\n",
    "vectorizer = CountVectorizer()\n",
    "X = vectorizer.fit_transform(corpus)\n",
    "vectorizer.get_feature_names_out()\n",
    "print(X.toarray())\n",
    "vectorizer2 = CountVectorizer(analyzer='char', ngram_range=(2, 2))\n",
    "X2 = vectorizer2.fit_transform(corpus)\n",
    "vectorizer2.get_feature_names_out()\n",
    "\n"
   ]
  },
  {
   "cell_type": "code",
   "execution_count": 9,
   "id": "dbee4812",
   "metadata": {},
   "outputs": [
    {
     "data": {
      "text/plain": [
       "['GUAAUUUGUGAUGCGAAUUU',\n",
       " 'GCCUGCCAGGCUUUAGAGAG',\n",
       " 'CUUCCGGUGAUGAAUUCGUG',\n",
       " 'AAUGUAACUAGGAACGCAUA',\n",
       " 'CCCUGCUUGAGAUGAUAGCG']"
      ]
     },
     "execution_count": 9,
     "metadata": {},
     "output_type": "execute_result"
    }
   ],
   "source": [
    "import random\n",
    "seq_corpus = [''.join([random.choice(['A','U','C','G']) for x in range(20)]) for y in range(5)]\n",
    "seq_corpus\n"
   ]
  },
  {
   "cell_type": "code",
   "execution_count": 13,
   "id": "dbcd5fdd",
   "metadata": {},
   "outputs": [
    {
     "data": {
      "text/plain": [
       "'guaau'"
      ]
     },
     "execution_count": 13,
     "metadata": {},
     "output_type": "execute_result"
    }
   ],
   "source": [
    "seq_corpus[0][0:5].lower()"
   ]
  },
  {
   "cell_type": "code",
   "execution_count": 14,
   "id": "bc825de6",
   "metadata": {},
   "outputs": [
    {
     "data": {
      "text/plain": [
       "'uaauu'"
      ]
     },
     "execution_count": 14,
     "metadata": {},
     "output_type": "execute_result"
    }
   ],
   "source": [
    "seq_corpus[0][1:1+5].lower()"
   ]
  },
  {
   "cell_type": "code",
   "execution_count": 20,
   "id": "2bd0b8af",
   "metadata": {},
   "outputs": [
    {
     "name": "stdout",
     "output_type": "stream",
     "text": [
      "[[0 0 0 0 1]\n",
      " [0 0 0 1 0]\n",
      " [0 0 1 0 0]\n",
      " [1 0 0 0 0]\n",
      " [0 1 0 0 0]]\n"
     ]
    },
    {
     "data": {
      "text/plain": [
       "array([' aaug', ' cccu', ' cuuc', ' gccu', ' guaa', 'aacgc', 'aacua',\n",
       "       'aaugu', 'aauuc', 'aauuu', 'acgca', 'acuag', 'agag ', 'agaga',\n",
       "       'agaug', 'agcg ', 'aggaa', 'aggcu', 'auagc', 'augaa', 'augau',\n",
       "       'augcg', 'augua', 'auucg', 'auuu ', 'auuug', 'caggc', 'caua ',\n",
       "       'ccagg', 'cccug', 'ccggu', 'ccugc', 'cgaau', 'cgcau', 'cggug',\n",
       "       'cgug ', 'cuagg', 'cugcc', 'cugcu', 'cuucc', 'cuuga', 'cuuua',\n",
       "       'gaacg', 'gaauu', 'gagag', 'gagau', 'gauag', 'gauga', 'gaugc',\n",
       "       'gcaua', 'gccag', 'gccug', 'gcgaa', 'gcuug', 'gcuuu', 'ggaac',\n",
       "       'ggcuu', 'gguga', 'guaac', 'guaau', 'gugau', 'uaacu', 'uaauu',\n",
       "       'uagag', 'uagcg', 'uagga', 'uccgg', 'ucgug', 'ugaau', 'ugaga',\n",
       "       'ugaua', 'ugaug', 'ugcca', 'ugcga', 'ugcuu', 'uguaa', 'uguga',\n",
       "       'uuaga', 'uuccg', 'uucgu', 'uugag', 'uugug', 'uuuag', 'uuugu'],\n",
       "      dtype=object)"
      ]
     },
     "execution_count": 20,
     "metadata": {},
     "output_type": "execute_result"
    }
   ],
   "source": [
    "from sklearn.feature_extraction.text import CountVectorizer\n",
    "corpus = [\n",
    " 'GUAAUUUGUGAUGCGAAUUU',\n",
    " 'GCCUGCCAGGCUUUAGAGAG',\n",
    " 'CUUCCGGUGAUGAAUUCGUG',\n",
    " 'AAUGUAACUAGGAACGCAUA',\n",
    " 'CCCUGCUUGAGAUGAUAGCG',\n",
    "]\n",
    "vectorizer = CountVectorizer()\n",
    "X = vectorizer.fit_transform(corpus)\n",
    "vectorizer.get_feature_names_out()\n",
    "print(X.toarray())\n",
    "vectorizer2 = CountVectorizer(analyzer='char_wb', ngram_range=(5, 5))\n",
    "X2 = vectorizer2.fit_transform(corpus)\n",
    "vectorizer2.get_feature_names_out()\n",
    "\n"
   ]
  },
  {
   "cell_type": "code",
   "execution_count": 23,
   "id": "ba2742f0",
   "metadata": {},
   "outputs": [
    {
     "name": "stdout",
     "output_type": "stream",
     "text": [
      "[[0 0 0 0 1]\n",
      " [0 0 0 1 0]\n",
      " [0 0 1 0 0]\n",
      " [1 0 0 0 0]\n",
      " [0 1 0 0 0]]\n"
     ]
    },
    {
     "data": {
      "text/plain": [
       "array(['ccugc', 'gaauu', 'gauga', 'gugau', 'ugaug'], dtype=object)"
      ]
     },
     "execution_count": 23,
     "metadata": {},
     "output_type": "execute_result"
    }
   ],
   "source": [
    "from sklearn.feature_extraction.text import CountVectorizer\n",
    "corpus = [\n",
    " 'GUAAUUUGUGAUGCGAAUUU',\n",
    " 'GCCUGCCAGGCUUUAGAGAG',\n",
    " 'CUUCCGGUGAUGAAUUCGUG',\n",
    " 'AAUGUAACUAGGAACGCAUA',\n",
    " 'CCCUGCUUGAGAUGAUAGCG',\n",
    "]\n",
    "vectorizer = CountVectorizer()\n",
    "X = vectorizer.fit_transform(corpus)\n",
    "vectorizer.get_feature_names_out()\n",
    "print(X.toarray())\n",
    "vectorizer2 = CountVectorizer(analyzer='char', ngram_range=(5, 5), min_df=2)\n",
    "X2 = vectorizer2.fit_transform(corpus)\n",
    "vectorizer2.get_feature_names_out()\n",
    "\n"
   ]
  },
  {
   "cell_type": "code",
   "execution_count": 25,
   "id": "07462d4a",
   "metadata": {},
   "outputs": [
    {
     "data": {
      "text/plain": [
       "'GUGAU'"
      ]
     },
     "execution_count": 25,
     "metadata": {},
     "output_type": "execute_result"
    }
   ],
   "source": [
    "'gugau'.upper()"
   ]
  },
  {
   "cell_type": "code",
   "execution_count": null,
   "id": "ff306f9c",
   "metadata": {},
   "outputs": [],
   "source": []
  }
 ],
 "metadata": {
  "kernelspec": {
   "display_name": "Python 3 (ipykernel)",
   "language": "python",
   "name": "python3"
  },
  "language_info": {
   "codemirror_mode": {
    "name": "ipython",
    "version": 3
   },
   "file_extension": ".py",
   "mimetype": "text/x-python",
   "name": "python",
   "nbconvert_exporter": "python",
   "pygments_lexer": "ipython3",
   "version": "3.8.13"
  }
 },
 "nbformat": 4,
 "nbformat_minor": 5
}
